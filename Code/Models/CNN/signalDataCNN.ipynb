{
  "cells": [
    {
      "cell_type": "code",
      "execution_count": null,
      "metadata": {
        "id": "G5madx3yU93c"
      },
      "outputs": [],
      "source": [
        "from tensorflow.keras import datasets, layers, models, callbacks\n",
        "from tensorflow.keras.utils import image_dataset_from_directory\n",
        "import matplotlib.pyplot as plt\n",
        "import numpy as np\n",
        "import cv2\n",
        "from os import path\n",
        "import os\n",
        "from tqdm import tqdm\n",
        "import pandas as pd\n",
        "import tensorflow as tf\n",
        "from sklearn.metrics import confusion_matrix"
      ]
    },
    {
      "attachments": {},
      "cell_type": "markdown",
      "metadata": {},
      "source": [
        "## Loading Dataset"
      ]
    },
    {
      "cell_type": "code",
      "execution_count": null,
      "metadata": {
        "colab": {
          "base_uri": "https://localhost:8080/"
        },
        "id": "9zEIUaG5OI64",
        "outputId": "c3f34adc-2357-4488-c896-3bd44487142b"
      },
      "outputs": [],
      "source": [
        "X_train = image_dataset_from_directory('/content/normalizedImages/train', image_size=(384, 384), batch_size=8, subset=\"training\", validation_split=0.1, seed=11, label_mode='categorical', class_names=['WALKING', 'WALKING_UPSTAIRS', 'WALKING_DOWNSTAIRS', 'LAYING', 'SITTING', 'STANDING'])"
      ]
    },
    {
      "cell_type": "code",
      "execution_count": null,
      "metadata": {
        "colab": {
          "base_uri": "https://localhost:8080/"
        },
        "id": "fmaR1JIiHKH6",
        "outputId": "d69cbdb6-1c87-4e2b-d589-4207e4cdb60b"
      },
      "outputs": [],
      "source": [
        "X_val = image_dataset_from_directory('/content/normalizedImages/train', image_size=(384, 384), batch_size=8, subset=\"validation\", validation_split=0.1, seed=11, label_mode='categorical', class_names=['WALKING', 'WALKING_UPSTAIRS', 'WALKING_DOWNSTAIRS', 'LAYING', 'SITTING', 'STANDING'])"
      ]
    },
    {
      "cell_type": "code",
      "execution_count": null,
      "metadata": {
        "colab": {
          "base_uri": "https://localhost:8080/"
        },
        "id": "RD6o72kCsJWJ",
        "outputId": "ab72d3bb-7110-4376-852d-de26a4fa30e4"
      },
      "outputs": [],
      "source": [
        "X_test = image_dataset_from_directory('/content/normalizedImages/test', image_size=(384, 384), batch_size=8, label_mode='categorical', class_names=['WALKING', 'WALKING_UPSTAIRS', 'WALKING_DOWNSTAIRS', 'LAYING', 'SITTING', 'STANDING'])"
      ]
    },
    {
      "attachments": {},
      "cell_type": "markdown",
      "metadata": {},
      "source": [
        "## Building Model"
      ]
    },
    {
      "cell_type": "code",
      "execution_count": null,
      "metadata": {
        "id": "epjI2RuqU93p"
      },
      "outputs": [],
      "source": [
        "def build_model():\n",
        "    model = models.Sequential()\n",
        "    model.add(layers.experimental.preprocessing.Rescaling(1./255, input_shape=(384, 384, 3)))\n",
        "    \n",
        "    model.add(layers.Conv2D(filters=64, kernel_size=(3, 3), activation='relu', input_shape=(384, 384, 3)))\n",
        "    model.add(layers.Conv2D(filters=64, kernel_size=(3, 3), activation='relu'))\n",
        "    model.add(layers.MaxPooling2D())\n",
        "\n",
        "    model.add(layers.Conv2D(filters=64, kernel_size=(3, 3), activation='relu'))\n",
        "    model.add(layers.Conv2D(filters=64, kernel_size=(3, 3), activation='relu'))\n",
        "    model.add(layers.MaxPooling2D())\n",
        "    \n",
        "    model.add(layers.Conv2D(filters=32, kernel_size=(3, 3), activation='relu'))\n",
        "    model.add(layers.Conv2D(filters=32, kernel_size=(3, 3), activation='relu'))\n",
        "    model.add(layers.MaxPooling2D())\n",
        "    \n",
        "    model.add(layers.Conv2D(filters=32, kernel_size=(3, 3), activation='relu'))\n",
        "    model.add(layers.Conv2D(filters=32, kernel_size=(3, 3), activation='relu'))\n",
        "    model.add(layers.MaxPooling2D())\n",
        "    \n",
        "    # model.add(layers.Dropout(0.5))\n",
        "    model.add(layers.Flatten())\n",
        "    model.add(layers.Dense(50, activation='relu'))\n",
        "    model.add(layers.Dense(50, activation='relu'))\n",
        "    model.add(layers.Dense(6, activation='softmax'))\n",
        "\n",
        "    model.compile(optimizer=\"adam\", loss=\"kullback_leibler_divergence\", metrics=[\"accuracy\"])\n",
        "    print(model.summary())\n",
        "    return model"
      ]
    },
    {
      "cell_type": "code",
      "execution_count": null,
      "metadata": {
        "colab": {
          "base_uri": "https://localhost:8080/"
        },
        "id": "RMR8x273U93q",
        "outputId": "78dbdd5c-3947-4662-f316-0cc252be3908"
      },
      "outputs": [],
      "source": [
        "model = build_model()"
      ]
    },
    {
      "cell_type": "code",
      "execution_count": null,
      "metadata": {
        "colab": {
          "base_uri": "https://localhost:8080/"
        },
        "id": "cbusFR6aU93r",
        "outputId": "09ea00db-0cf7-4873-82a9-9dcb196d56c7"
      },
      "outputs": [],
      "source": [
        "es = callbacks.EarlyStopping(monitor='val_accuracy', mode='max', verbose=1, patience=3)\n",
        "model.fit(X_train, epochs=15, verbose=True, batch_size=8, callbacks=[es], validation_data=X_val, class_weight={0: 1, 1: 1, 2:1, 3:1, 4:1.4, 5:1})"
      ]
    },
    {
      "cell_type": "code",
      "execution_count": null,
      "metadata": {
        "colab": {
          "base_uri": "https://localhost:8080/"
        },
        "id": "FbrwjPQgDiKN",
        "outputId": "1e2a81f2-1dff-4f1b-9821-733afc522fe7"
      },
      "outputs": [],
      "source": [
        "model.evaluate(X_test)"
      ]
    },
    {
      "attachments": {},
      "cell_type": "markdown",
      "metadata": {},
      "source": [
        "## Confusion Matrix"
      ]
    },
    {
      "cell_type": "code",
      "execution_count": null,
      "metadata": {
        "id": "gi7ptNouNT3p"
      },
      "outputs": [],
      "source": [
        "y_true = []\n",
        "y_pred = []\n",
        "\n",
        "for image_batch, label_batch in X_test:   # use dataset.unbatch() with repeat\n",
        "   # append true labels\n",
        "   y_true.append(label_batch)\n",
        "   # compute predictions\n",
        "   preds = model.predict(image_batch)\n",
        "   # append predicted labels\n",
        "   y_pred.append(np.argmax(preds, axis = - 1))\n",
        "\n",
        "# convert the true and predicted labels into tensors\n",
        "correct_labels = tf.concat([item for item in y_true], axis = 0)\n",
        "predicted_labels = tf.concat([item for item in y_pred], axis = 0)\n",
        "rounded_labels=np.argmax(correct_labels, axis=1)"
      ]
    },
    {
      "cell_type": "code",
      "execution_count": null,
      "metadata": {
        "id": "KJdcjTimOShL"
      },
      "outputs": [],
      "source": [
        "confusion_matrix(predicted_labels, rounded_labels)"
      ]
    }
  ],
  "metadata": {
    "accelerator": "GPU",
    "colab": {
      "collapsed_sections": [],
      "name": "mobileSensorCNN.ipynb",
      "provenance": []
    },
    "kernelspec": {
      "display_name": "Python 3",
      "language": "python",
      "name": "python3"
    },
    "language_info": {
      "codemirror_mode": {
        "name": "ipython",
        "version": 3
      },
      "file_extension": ".py",
      "mimetype": "text/x-python",
      "name": "python",
      "nbconvert_exporter": "python",
      "pygments_lexer": "ipython3",
      "version": "3.11.1"
    },
    "vscode": {
      "interpreter": {
        "hash": "d77604b5305a708665e1df95d16b028ef698e61321d48de2b9f6d0bc9c05b8a5"
      }
    }
  },
  "nbformat": 4,
  "nbformat_minor": 0
}
