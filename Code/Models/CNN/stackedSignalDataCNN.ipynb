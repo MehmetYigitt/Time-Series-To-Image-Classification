{
  "cells": [
    {
      "cell_type": "code",
      "execution_count": null,
      "metadata": {
        "id": "5GNykODF9CVN"
      },
      "outputs": [],
      "source": [
        "from os import path, listdir\n",
        "import gc\n",
        "\n",
        "import numpy as np\n",
        "import pandas as pd\n",
        "\n",
        "from tensorflow.keras.utils import to_categorical\n",
        "from tensorflow.keras import datasets, layers, models, callbacks, optimizers\n",
        "from sklearn.metrics import confusion_matrix"
      ]
    },
    {
      "attachments": {},
      "cell_type": "markdown",
      "metadata": {},
      "source": [
        "## Loading Dataset"
      ]
    },
    {
      "cell_type": "code",
      "execution_count": null,
      "metadata": {
        "id": "hPsQZgwEXbqf"
      },
      "outputs": [],
      "source": [
        "dataset_dir = path.join('stackedImagesGADFbw')"
      ]
    },
    {
      "cell_type": "code",
      "execution_count": null,
      "metadata": {
        "id": "wRf30FFFVE5Q"
      },
      "outputs": [],
      "source": [
        "def get_dataset(dataset_type, dataset_dir):\n",
        "    labels = pd.read_csv(path.join(dataset_dir, 'y_' + dataset_type + '.txt'), header=None)\n",
        "    dataset_X = list()\n",
        "    dataset_y = list()\n",
        "    for sample in listdir(path.join(dataset_dir, dataset_type)):\n",
        "        dataset_X.append(np.load(path.join(dataset_dir, dataset_type, sample)))\n",
        "        dataset_y.append(labels.iloc[int(sample.split('.')[0]) - 1][0])\n",
        "    return np.array(dataset_X), to_categorical(np.array(dataset_y) - 1)"
      ]
    },
    {
      "cell_type": "code",
      "execution_count": null,
      "metadata": {
        "id": "mA70koQs8zwx"
      },
      "outputs": [],
      "source": [
        "X_train, y_train = get_dataset('train', dataset_dir)"
      ]
    },
    {
      "cell_type": "code",
      "execution_count": null,
      "metadata": {
        "id": "mDGQfPkaejDQ"
      },
      "outputs": [],
      "source": [
        "X_test, y_test = get_dataset('test', dataset_dir)"
      ]
    },
    {
      "attachments": {},
      "cell_type": "markdown",
      "metadata": {},
      "source": [
        "## Building Model"
      ]
    },
    {
      "cell_type": "code",
      "execution_count": null,
      "metadata": {
        "id": "3SS8rLcSdMGz"
      },
      "outputs": [],
      "source": [
        "def build_model():\n",
        "    model = models.Sequential()\n",
        "    model.add(layers.experimental.preprocessing.Rescaling(1./255, input_shape=(128, 128, 27)))\n",
        "    \n",
        "    model.add(layers.Conv2D(filters=64, kernel_size=(3, 3), activation='relu', input_shape=(128, 128, 27)))\n",
        "    model.add(layers.Conv2D(filters=64, kernel_size=(3, 3), activation='relu'))\n",
        "    model.add(layers.MaxPooling2D())\n",
        "\n",
        "    model.add(layers.Conv2D(filters=64, kernel_size=(3, 3), activation='relu'))\n",
        "    model.add(layers.Conv2D(filters=64, kernel_size=(3, 3), activation='relu'))\n",
        "    model.add(layers.MaxPooling2D())\n",
        "    \n",
        "    model.add(layers.Conv2D(filters=32, kernel_size=(3, 3), activation='relu'))\n",
        "    model.add(layers.Conv2D(filters=32, kernel_size=(3, 3), activation='relu'))\n",
        "    model.add(layers.MaxPooling2D())\n",
        "    \n",
        "    model.add(layers.Conv2D(filters=32, kernel_size=(3, 3), activation='relu'))\n",
        "    model.add(layers.Conv2D(filters=32, kernel_size=(3, 3), activation='relu'))\n",
        "    model.add(layers.MaxPooling2D())\n",
        "    \n",
        "    # model.add(layers.Dropout(0.5))\n",
        "    model.add(layers.Flatten())\n",
        "    model.add(layers.Reshape((-1, 1)))\n",
        "    model.add(layers.LSTM(128))\n",
        "    model.add(layers.Dense(50, activation='relu'))\n",
        "    model.add(layers.Dense(50, activation='relu'))\n",
        "    model.add(layers.Dense(6, activation='softmax'))\n",
        "\n",
        "    model.compile(optimizer=\"adam\", loss=\"categorical_crossentropy\", metrics=[\"accuracy\"])\n",
        "    print(model.summary())\n",
        "    return model"
      ]
    },
    {
      "cell_type": "code",
      "execution_count": null,
      "metadata": {
        "colab": {
          "base_uri": "https://localhost:8080/"
        },
        "id": "oOgwbpYWdXp4",
        "outputId": "c1f2a7e2-f0a6-4237-c2e7-4afb8ab69787"
      },
      "outputs": [],
      "source": [
        "model = build_model()"
      ]
    },
    {
      "cell_type": "code",
      "execution_count": null,
      "metadata": {
        "colab": {
          "base_uri": "https://localhost:8080/"
        },
        "id": "uW2Y04qRdZC7",
        "outputId": "aad41788-56eb-4e4d-f85f-ebbd1f9efcd7"
      },
      "outputs": [],
      "source": [
        "es = callbacks.EarlyStopping(monitor='val_accuracy', mode='max', verbose=1, patience=5)\n",
        "model.fit(X_train, y_train, epochs=80, verbose=True, batch_size=64, validation_split=0.1, callbacks=[es])"
      ]
    },
    {
      "cell_type": "code",
      "execution_count": null,
      "metadata": {
        "colab": {
          "base_uri": "https://localhost:8080/"
        },
        "id": "tkQScCy8dugz",
        "outputId": "ea060c40-df86-4049-98bb-0886258a886f"
      },
      "outputs": [],
      "source": [
        "model.evaluate(X_test, y_test)"
      ]
    },
    {
      "attachments": {},
      "cell_type": "markdown",
      "metadata": {},
      "source": [
        "## Confusion Matrix"
      ]
    },
    {
      "cell_type": "code",
      "execution_count": null,
      "metadata": {
        "id": "AjO_TFvnh7rU"
      },
      "outputs": [],
      "source": [
        "predicted_labels = model.predict(X_test)\n",
        "predicted_labels_normal = np.argmax(predicted_labels, axis=1)\n",
        "correct_labels_normal = np.argmax(y_test, axis=1)"
      ]
    },
    {
      "cell_type": "code",
      "execution_count": null,
      "metadata": {
        "id": "itbIff-_iJyc"
      },
      "outputs": [],
      "source": [
        "confusion_matrix(correct_labels_normal, predicted_labels_normal)"
      ]
    }
  ],
  "metadata": {
    "accelerator": "GPU",
    "colab": {
      "collapsed_sections": [],
      "name": "stackedImageCNN.ipynb",
      "provenance": []
    },
    "gpuClass": "standard",
    "kernelspec": {
      "display_name": "Python 3",
      "language": "python",
      "name": "python3"
    },
    "language_info": {
      "name": "python",
      "version": "3.11.1"
    },
    "vscode": {
      "interpreter": {
        "hash": "d77604b5305a708665e1df95d16b028ef698e61321d48de2b9f6d0bc9c05b8a5"
      }
    }
  },
  "nbformat": 4,
  "nbformat_minor": 0
}
