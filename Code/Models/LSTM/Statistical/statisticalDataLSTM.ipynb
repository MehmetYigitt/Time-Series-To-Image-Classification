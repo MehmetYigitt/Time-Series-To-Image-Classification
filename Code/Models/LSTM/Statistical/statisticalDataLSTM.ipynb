{
  "cells": [
    {
      "cell_type": "code",
      "execution_count": 28,
      "metadata": {
        "id": "dyZS7kVRpX2J"
      },
      "outputs": [],
      "source": [
        "from os import path\n",
        "import pandas as pd\n",
        "import numpy as np\n",
        "import tensorflow.keras as keras\n",
        "from tensorflow.keras.layers import LeakyReLU\n",
        "from tensorflow.keras.utils import to_categorical\n",
        "import yaml\n",
        "from attrdict import AttrDict\n",
        "from tqdm import tqdm\n",
        "from statistics import mean, stdev\n",
        "from sklearn import svm"
      ]
    },
    {
      "cell_type": "markdown",
      "metadata": {},
      "source": [
        "Data path"
      ]
    },
    {
      "cell_type": "code",
      "execution_count": 4,
      "metadata": {},
      "outputs": [],
      "source": [
        "data_path = path.join('..', '..', '..', '..', 'Data', 'UCI HAR Dataset')"
      ]
    },
    {
      "cell_type": "markdown",
      "metadata": {},
      "source": [
        "Reading hyparameters file"
      ]
    },
    {
      "cell_type": "code",
      "execution_count": 5,
      "metadata": {
        "id": "KaGGSUPKpX2K"
      },
      "outputs": [],
      "source": [
        "with open('statisticalDataLSTMhparams.yaml') as params_file:\n",
        "    config = yaml.full_load(params_file)\n",
        "    hparams = AttrDict(config)"
      ]
    },
    {
      "cell_type": "markdown",
      "metadata": {},
      "source": [
        "Reading dataset"
      ]
    },
    {
      "cell_type": "code",
      "execution_count": 6,
      "metadata": {},
      "outputs": [],
      "source": [
        "def get_dataset(data_path, data_type, subset):\n",
        "    if data_type == 'X':\n",
        "        return pd.read_csv(path.join(data_path, subset, data_type + '_' + subset + '.txt'), header=None, delim_whitespace=True)\n",
        "    else:\n",
        "        return to_categorical(np.array(pd.read_csv(path.join(data_path, subset, data_type + '_' + subset + '.txt'), header=None)[0] - 1))\n",
        "        # return np.array(pd.read_csv(path.join(data_path, subset, data_type + '_' + subset + '.txt'), header=None)[0])\n"
      ]
    },
    {
      "cell_type": "code",
      "execution_count": 7,
      "metadata": {},
      "outputs": [],
      "source": [
        "X_train = get_dataset(data_path, 'X', 'train')\n",
        "y_train = get_dataset(data_path, 'y', 'train')"
      ]
    },
    {
      "cell_type": "code",
      "execution_count": 8,
      "metadata": {},
      "outputs": [],
      "source": [
        "X_test = get_dataset(data_path, 'X', 'test')\n",
        "y_test = get_dataset(data_path, 'y', 'test')"
      ]
    },
    {
      "cell_type": "markdown",
      "metadata": {},
      "source": [
        "Model Structure"
      ]
    },
    {
      "cell_type": "code",
      "execution_count": null,
      "metadata": {
        "id": "HOf5QMk5pX2L"
      },
      "outputs": [],
      "source": [
        "def build_model(hparams, verbose=True):\n",
        "    model = keras.models.Sequential()\n",
        "    model.add(keras.layers.LSTM(hparams.neuron_count, activation=\"tanh\", input_shape=(561, hparams.n_features)))\n",
        "\n",
        "    # To use Bidirectional LSTM, uncomment the below line and comment the above one.\n",
        "    # model.add(keras.layers.Bidirectional(keras.layers.LSTM(hparams.neuron_count, activation=\"tanh\"), input_shape=(561, hparams.n_features)))\n",
        "    model.add(keras.layers.Dropout(0.5))\n",
        "    model.add(keras.layers.Dense(hparams.neuron_count, activation=\"tanh\"))\n",
        "    model.add(keras.layers.Dense(hparams.output_neuron, activation=\"softmax\"))\n",
        "    model.compile(optimizer=\"adam\", loss=\"kullback_leibler_divergence\", metrics=[\"accuracy\"])\n",
        "    if(verbose):\n",
        "        print(model.summary())\n",
        "    return model"
      ]
    },
    {
      "cell_type": "code",
      "execution_count": 30,
      "metadata": {
        "colab": {
          "base_uri": "https://localhost:8080/"
        },
        "id": "yjZfxu9KpX2M",
        "outputId": "a5f0f981-f420-492d-b9cd-8f90232a0075"
      },
      "outputs": [
        {
          "name": "stdout",
          "output_type": "stream",
          "text": [
            "Model: \"sequential_2\"\n",
            "_________________________________________________________________\n",
            "Layer (type)                 Output Shape              Param #   \n",
            "=================================================================\n",
            "dense_8 (Dense)              (None, 200)               112400    \n",
            "_________________________________________________________________\n",
            "dense_9 (Dense)              (None, 100)               20100     \n",
            "_________________________________________________________________\n",
            "dense_10 (Dense)             (None, 50)                5050      \n",
            "_________________________________________________________________\n",
            "dense_11 (Dense)             (None, 6)                 306       \n",
            "=================================================================\n",
            "Total params: 137,856\n",
            "Trainable params: 137,856\n",
            "Non-trainable params: 0\n",
            "_________________________________________________________________\n",
            "None\n"
          ]
        }
      ],
      "source": [
        "model = build_model(hparams)"
      ]
    },
    {
      "cell_type": "markdown",
      "metadata": {},
      "source": [
        "# Train & Test"
      ]
    },
    {
      "cell_type": "code",
      "execution_count": 43,
      "metadata": {
        "colab": {
          "base_uri": "https://localhost:8080/"
        },
        "id": "pYH6DCaNpX2N",
        "outputId": "6a372514-655c-4d7b-dbbc-c62198fe8ad8"
      },
      "outputs": [
        {
          "name": "stdout",
          "output_type": "stream",
          "text": [
            "Epoch 1/40\n",
            "460/460 [==============================] - 2s 4ms/step - loss: 0.0710 - accuracy: 0.9743\n",
            "Epoch 2/40\n",
            "460/460 [==============================] - 2s 3ms/step - loss: 0.0626 - accuracy: 0.9773\n",
            "Epoch 3/40\n",
            "460/460 [==============================] - 2s 4ms/step - loss: 0.0591 - accuracy: 0.9761\n",
            "Epoch 4/40\n",
            "460/460 [==============================] - 2s 5ms/step - loss: 0.0607 - accuracy: 0.9761\n",
            "Epoch 5/40\n",
            "460/460 [==============================] - 2s 5ms/step - loss: 0.0623 - accuracy: 0.9762\n",
            "Epoch 6/40\n",
            "460/460 [==============================] - 2s 5ms/step - loss: 0.0482 - accuracy: 0.9804\n",
            "Epoch 7/40\n",
            "460/460 [==============================] - 2s 5ms/step - loss: 0.0591 - accuracy: 0.9786\n",
            "Epoch 8/40\n",
            "460/460 [==============================] - 2s 5ms/step - loss: 0.0389 - accuracy: 0.9849\n",
            "Epoch 9/40\n",
            "460/460 [==============================] - 2s 5ms/step - loss: 0.0591 - accuracy: 0.9778\n",
            "Epoch 10/40\n",
            "460/460 [==============================] - 2s 5ms/step - loss: 0.0528 - accuracy: 0.9796\n",
            "Epoch 11/40\n",
            "460/460 [==============================] - 2s 5ms/step - loss: 0.0466 - accuracy: 0.9833\n",
            "Epoch 12/40\n",
            "460/460 [==============================] - 2s 5ms/step - loss: 0.0417 - accuracy: 0.9819\n",
            "Epoch 13/40\n",
            "460/460 [==============================] - 2s 5ms/step - loss: 0.0416 - accuracy: 0.9822\n",
            "Epoch 14/40\n",
            "460/460 [==============================] - 2s 5ms/step - loss: 0.0617 - accuracy: 0.9784\n",
            "Epoch 15/40\n",
            "460/460 [==============================] - 2s 5ms/step - loss: 0.0517 - accuracy: 0.9804\n",
            "Epoch 16/40\n",
            "460/460 [==============================] - 2s 5ms/step - loss: 0.0384 - accuracy: 0.9861\n",
            "Epoch 17/40\n",
            "460/460 [==============================] - 2s 5ms/step - loss: 0.0458 - accuracy: 0.9822\n",
            "Epoch 18/40\n",
            "460/460 [==============================] - 2s 5ms/step - loss: 0.0407 - accuracy: 0.9826\n",
            "Epoch 19/40\n",
            "460/460 [==============================] - 2s 5ms/step - loss: 0.0335 - accuracy: 0.9867\n",
            "Epoch 20/40\n",
            "460/460 [==============================] - 2s 5ms/step - loss: 0.0409 - accuracy: 0.9852\n",
            "Epoch 21/40\n",
            "460/460 [==============================] - 2s 5ms/step - loss: 0.0562 - accuracy: 0.9788\n",
            "Epoch 22/40\n",
            "460/460 [==============================] - 2s 5ms/step - loss: 0.0319 - accuracy: 0.9869\n",
            "Epoch 23/40\n",
            "460/460 [==============================] - 2s 5ms/step - loss: 0.0327 - accuracy: 0.9879\n",
            "Epoch 24/40\n",
            "460/460 [==============================] - 2s 5ms/step - loss: 0.0392 - accuracy: 0.9850\n",
            "Epoch 25/40\n",
            "460/460 [==============================] - 2s 5ms/step - loss: 0.0372 - accuracy: 0.9854\n",
            "Epoch 26/40\n",
            "460/460 [==============================] - 2s 5ms/step - loss: 0.0557 - accuracy: 0.9818\n",
            "Epoch 27/40\n",
            "460/460 [==============================] - 2s 5ms/step - loss: 0.0340 - accuracy: 0.9864\n",
            "Epoch 28/40\n",
            "460/460 [==============================] - 2s 5ms/step - loss: 0.0262 - accuracy: 0.9894\n",
            "Epoch 29/40\n",
            "460/460 [==============================] - 2s 5ms/step - loss: 0.0307 - accuracy: 0.9887: 0s - l\n",
            "Epoch 30/40\n",
            "460/460 [==============================] - 2s 5ms/step - loss: 0.0404 - accuracy: 0.9848\n",
            "Epoch 31/40\n",
            "460/460 [==============================] - 2s 5ms/step - loss: 0.0312 - accuracy: 0.9861\n",
            "Epoch 32/40\n",
            "460/460 [==============================] - 2s 5ms/step - loss: 0.0409 - accuracy: 0.9852\n",
            "Epoch 33/40\n",
            "460/460 [==============================] - 2s 5ms/step - loss: 0.0369 - accuracy: 0.9844\n",
            "Epoch 34/40\n",
            "460/460 [==============================] - 2s 5ms/step - loss: 0.0239 - accuracy: 0.9905\n",
            "Epoch 35/40\n",
            "460/460 [==============================] - 2s 5ms/step - loss: 0.0250 - accuracy: 0.9898\n",
            "Epoch 36/40\n",
            "460/460 [==============================] - 2s 5ms/step - loss: 0.0307 - accuracy: 0.9869\n",
            "Epoch 37/40\n",
            "460/460 [==============================] - 2s 5ms/step - loss: 0.0233 - accuracy: 0.9908\n",
            "Epoch 38/40\n",
            "460/460 [==============================] - 2s 4ms/step - loss: 0.0535 - accuracy: 0.9830\n",
            "Epoch 39/40\n",
            "460/460 [==============================] - 2s 5ms/step - loss: 0.0204 - accuracy: 0.9917\n",
            "Epoch 40/40\n",
            "460/460 [==============================] - 2s 4ms/step - loss: 0.0354 - accuracy: 0.9868\n"
          ]
        },
        {
          "data": {
            "text/plain": [
              "<tensorflow.python.keras.callbacks.History at 0x1d94cc610a0>"
            ]
          },
          "execution_count": 43,
          "metadata": {},
          "output_type": "execute_result"
        }
      ],
      "source": [
        "es = keras.callbacks.EarlyStopping(monitor='val_accuracy', mode='max', verbose=1, patience=5)\n",
        "model.fit(X_train, y_train, epochs=40, verbose=True, batch_size=16)"
      ]
    },
    {
      "cell_type": "code",
      "execution_count": 45,
      "metadata": {
        "colab": {
          "base_uri": "https://localhost:8080/"
        },
        "id": "5jp_IXFTpX2N",
        "outputId": "9e510c0f-f197-4ca1-b1d9-23e02791411a"
      },
      "outputs": [
        {
          "data": {
            "text/plain": [
              "[0.2706083357334137, 0.9484221339225769]"
            ]
          },
          "execution_count": 45,
          "metadata": {},
          "output_type": "execute_result"
        }
      ],
      "source": [
        "model.evaluate(X_test, y_test, verbose=0)"
      ]
    },
    {
      "cell_type": "markdown",
      "metadata": {},
      "source": [
        "# Stress Test"
      ]
    },
    {
      "cell_type": "code",
      "execution_count": null,
      "metadata": {
        "colab": {
          "base_uri": "https://localhost:8080/"
        },
        "id": "5QGRvPXGbTrs",
        "outputId": "0903de80-5ab0-4404-beab-47541e48d61e"
      },
      "outputs": [],
      "source": [
        "es = keras.callbacks.EarlyStopping(monitor='val_accuracy', mode='max', verbose=0, patience=5)\n",
        "accuracies = list()\n",
        "for i in tqdm(range(10)):\n",
        "    model = build_model(hparams, verbose=False)\n",
        "    model.fit(X_train, y_train, epochs=15, verbose=False,  validation_split=0.1, batch_size=64, callbacks=[es])\n",
        "    result = model.evaluate(X_test, y_test)[1]\n",
        "    accuracies.append(result)\n",
        "    print(result)"
      ]
    },
    {
      "cell_type": "code",
      "execution_count": null,
      "metadata": {},
      "outputs": [],
      "source": [
        "print(\"max: \", max(accuracies) * 100, \"\\nmin: \", min(accuracies) * 100, \"\\nmean: \", mean(accuracies), \"\\nstd: \", stdev(accuracies))"
      ]
    }
  ],
  "metadata": {
    "accelerator": "GPU",
    "colab": {
      "collapsed_sections": [],
      "name": "LSTMmodel.ipynb",
      "provenance": []
    },
    "kernelspec": {
      "display_name": "Python 3",
      "language": "python",
      "name": "python3"
    },
    "language_info": {
      "codemirror_mode": {
        "name": "ipython",
        "version": 3
      },
      "file_extension": ".py",
      "mimetype": "text/x-python",
      "name": "python",
      "nbconvert_exporter": "python",
      "pygments_lexer": "ipython3",
      "version": "3.11.1"
    },
    "orig_nbformat": 4,
    "vscode": {
      "interpreter": {
        "hash": "d77604b5305a708665e1df95d16b028ef698e61321d48de2b9f6d0bc9c05b8a5"
      }
    }
  },
  "nbformat": 4,
  "nbformat_minor": 0
}
