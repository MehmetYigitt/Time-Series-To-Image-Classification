{
 "cells": [
  {
   "cell_type": "code",
   "execution_count": 1,
   "metadata": {},
   "outputs": [],
   "source": [
    "from os import path, mkdir, makedirs\n",
    "from os import makedirs\n",
    "\n",
    "import numpy as np\n",
    "import pandas as pd\n",
    "\n",
    "from pyts.image import GramianAngularField\n",
    "import matplotlib.pyplot as plt\n",
    "from tqdm import tqdm"
   ]
  },
  {
   "cell_type": "markdown",
   "metadata": {},
   "source": [
    "Filepaths"
   ]
  },
  {
   "cell_type": "code",
   "execution_count": 2,
   "metadata": {},
   "outputs": [],
   "source": [
    "dataset_dir = path.join('..', '..', 'Data', 'UCI HAR Dataset')\n",
    "hparams_dir = path.join('..', 'hyperparameters')"
   ]
  },
  {
   "cell_type": "markdown",
   "metadata": {},
   "source": [
    "## Reading and transforming time series"
   ]
  },
  {
   "cell_type": "code",
   "execution_count": 3,
   "metadata": {},
   "outputs": [],
   "source": [
    "sensor_types = ['body_acc', 'body_gyro', 'total_acc']\n",
    "axis = ['x', 'y', 'z']"
   ]
  },
  {
   "cell_type": "code",
   "execution_count": 4,
   "metadata": {},
   "outputs": [],
   "source": [
    "def get_dataset(col_type, dataset_type, start=0, stop=0):\n",
    "    if col_type == 'X':\n",
    "        horizontal_images = list()\n",
    "        dataset = list()\n",
    "        for sensor in sensor_types:\n",
    "            for direction in axis:\n",
    "                filepath = path.join(dataset_dir, dataset_type, 'Inertial Signals', '_'.join([sensor,direction,dataset_type])+'.txt')\n",
    "                gaf = GramianAngularField(method=\"difference\")\n",
    "                data = pd.read_csv(filepath, delim_whitespace=True, header=None)\n",
    "                gaf.fit(data)                \n",
    "                dataset.append(gaf.transform(data[start:stop]))\n",
    "        return dataset\n",
    "    else:\n",
    "        return pd.read_csv(path.join(dataset_dir, dataset_type, 'y_' + dataset_type + '.txt'), header=None)"
   ]
  },
  {
   "cell_type": "code",
   "execution_count": 5,
   "metadata": {},
   "outputs": [],
   "source": [
    "classes = {1:'WALKING', 2:'WALKING_UPSTAIRS', 3:'WALKING_DOWNSTAIRS', 4:'SITTING', 5:'STANDING', 6:'LAYING'}"
   ]
  },
  {
   "cell_type": "code",
   "execution_count": 6,
   "metadata": {},
   "outputs": [],
   "source": [
    "y_train = get_dataset('y', 'train')"
   ]
  },
  {
   "cell_type": "code",
   "execution_count": 9,
   "metadata": {},
   "outputs": [],
   "source": [
    "y_test = get_dataset('y', 'test')"
   ]
  },
  {
   "cell_type": "markdown",
   "metadata": {},
   "source": [
    "## Saving Images"
   ]
  },
  {
   "cell_type": "code",
   "execution_count": 10,
   "metadata": {},
   "outputs": [],
   "source": [
    "def save_images_by_class(dataset_type, y):\n",
    "    prev = 0\n",
    "    count = 1\n",
    "    if dataset_type == 'train':\n",
    "        start = 919\n",
    "        stop = 7353\n",
    "        step = 919\n",
    "    else:\n",
    "        start = 1474\n",
    "        stop = 2949\n",
    "        step = 1474\n",
    "    for i in range(start, stop, step):\n",
    "        X = get_dataset('X', dataset_type, prev, i)\n",
    "        for j, item in enumerate(X):\n",
    "            count = prev+1\n",
    "            for k in tqdm(range(len(item))):\n",
    "                makedirs(path.join('..', '..', 'Data', 'toBeStackedImagesGADF', dataset_type, classes[y[0][count-1]], str(count)), exist_ok=True)\n",
    "                plt.imsave(path.join('..', '..', 'Data', 'toBeStackedImagesGADF', dataset_type, classes[y[0][count-1]], str(count), str(j)+'.png'), item[k], cmap=\"jet\")\n",
    "                count += 1\n",
    "        prev = i\n"
   ]
  },
  {
   "cell_type": "code",
   "execution_count": 11,
   "metadata": {},
   "outputs": [
    {
     "name": "stderr",
     "output_type": "stream",
     "text": [
      "100%|██████████| 1474/1474 [00:15<00:00, 94.05it/s] \n",
      "100%|██████████| 1474/1474 [00:13<00:00, 109.66it/s]\n",
      "100%|██████████| 1474/1474 [00:13<00:00, 109.55it/s]\n",
      "100%|██████████| 1474/1474 [00:13<00:00, 107.61it/s]\n",
      "100%|██████████| 1474/1474 [00:13<00:00, 109.98it/s]\n",
      "100%|██████████| 1474/1474 [00:14<00:00, 105.09it/s]\n",
      "100%|██████████| 1474/1474 [00:13<00:00, 105.73it/s]\n",
      "100%|██████████| 1474/1474 [00:14<00:00, 98.43it/s] \n",
      "100%|██████████| 1474/1474 [00:13<00:00, 105.55it/s]\n",
      "100%|██████████| 1473/1473 [00:15<00:00, 92.34it/s] \n",
      "100%|██████████| 1473/1473 [00:16<00:00, 87.65it/s] \n",
      "100%|██████████| 1473/1473 [00:15<00:00, 97.67it/s] \n",
      "100%|██████████| 1473/1473 [00:13<00:00, 112.45it/s]\n",
      "100%|██████████| 1473/1473 [00:12<00:00, 115.21it/s]\n",
      "100%|██████████| 1473/1473 [00:13<00:00, 109.60it/s]\n",
      "100%|██████████| 1473/1473 [00:13<00:00, 111.46it/s]\n",
      "100%|██████████| 1473/1473 [00:14<00:00, 103.52it/s]\n",
      "100%|██████████| 1473/1473 [00:13<00:00, 107.82it/s]\n"
     ]
    }
   ],
   "source": [
    "save_images_by_class('test', y_test)"
   ]
  },
  {
   "cell_type": "code",
   "execution_count": null,
   "metadata": {},
   "outputs": [],
   "source": [
    "save_images_by_class('train', y_train)"
   ]
  }
 ],
 "metadata": {
  "kernelspec": {
   "display_name": "Python 3",
   "language": "python",
   "name": "python3"
  },
  "language_info": {
   "codemirror_mode": {
    "name": "ipython",
    "version": 3
   },
   "file_extension": ".py",
   "mimetype": "text/x-python",
   "name": "python",
   "nbconvert_exporter": "python",
   "pygments_lexer": "ipython3",
   "version": "3.11.1"
  },
  "orig_nbformat": 4,
  "vscode": {
   "interpreter": {
    "hash": "d77604b5305a708665e1df95d16b028ef698e61321d48de2b9f6d0bc9c05b8a5"
   }
  }
 },
 "nbformat": 4,
 "nbformat_minor": 2
}
