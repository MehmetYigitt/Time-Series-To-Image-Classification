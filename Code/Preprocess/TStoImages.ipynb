{
 "cells": [
  {
   "cell_type": "code",
   "execution_count": 11,
   "metadata": {},
   "outputs": [],
   "source": [
    "import matplotlib.pyplot as plt\n",
    "import pandas as pd\n",
    "from pyts.image import GramianAngularField\n",
    "import numpy as np\n",
    "from os import path\n",
    "from tqdm import tqdm"
   ]
  },
  {
   "cell_type": "markdown",
   "metadata": {},
   "source": [
    "Filepaths"
   ]
  },
  {
   "cell_type": "code",
   "execution_count": 12,
   "metadata": {},
   "outputs": [],
   "source": [
    "dataset_dir = path.join('..', '..', 'Data', 'Normalized')\n",
    "hparams_dir = path.join('..', 'hyperparameters')"
   ]
  },
  {
   "cell_type": "markdown",
   "metadata": {},
   "source": [
    "## Reading and transforming time series"
   ]
  },
  {
   "cell_type": "code",
   "execution_count": 13,
   "metadata": {},
   "outputs": [],
   "source": [
    "sensor_types = ['body_acc', 'body_gyro', 'total_acc']\n",
    "axis = ['x', 'y', 'z']"
   ]
  },
  {
   "cell_type": "code",
   "execution_count": 14,
   "metadata": {},
   "outputs": [],
   "source": [
    "def get_dataset(col_type, dataset_type, start=0, stop=0):\n",
    "    if col_type == 'X':\n",
    "        horizontal_images = list()\n",
    "        for sensor in sensor_types:\n",
    "            dataset = list()\n",
    "            for direction in axis:\n",
    "                filepath = path.join(dataset_dir, dataset_type, '_'.join([sensor,direction,dataset_type])+'.csv')\n",
    "                gaf = GramianAngularField(sample_range=None)\n",
    "                data = pd.read_csv(filepath, delim_whitespace=True, header=None)\n",
    "                gaf.fit(data)\n",
    "                dataset.append(gaf.transform(data[start:stop]))\n",
    "            horizontal_images.append(np.dstack(dataset))\n",
    "        vertical_images = np.hstack(horizontal_images)\n",
    "        return vertical_images\n",
    "    else:\n",
    "        return pd.read_csv(path.join(dataset_dir, dataset_type, 'y_' + dataset_type + '.txt'), header=None)"
   ]
  },
  {
   "cell_type": "code",
   "execution_count": 15,
   "metadata": {},
   "outputs": [],
   "source": [
    "classes = {1:'WALKING', 2:'WALKING_UPSTAIRS', 3:'WALKING_DOWNSTAIRS', 4:'SITTING', 5:'STANDING', 6:'LAYING'}"
   ]
  },
  {
   "cell_type": "code",
   "execution_count": 16,
   "metadata": {},
   "outputs": [],
   "source": [
    "y_train = get_dataset('y', 'train')"
   ]
  },
  {
   "cell_type": "code",
   "execution_count": 17,
   "metadata": {},
   "outputs": [],
   "source": [
    "y_test = get_dataset('y', 'test')"
   ]
  },
  {
   "cell_type": "markdown",
   "metadata": {},
   "source": [
    "## Saving Images"
   ]
  },
  {
   "cell_type": "code",
   "execution_count": 23,
   "metadata": {},
   "outputs": [],
   "source": [
    "def save_images_by_class(dataset_type, y):\n",
    "    prev = 0\n",
    "    count = 1\n",
    "    if dataset_type == 'train':\n",
    "        start = 919\n",
    "        stop = 7353\n",
    "        step = 919\n",
    "    else:\n",
    "        start = 1474\n",
    "        stop = 2949\n",
    "        step = 1474\n",
    "    for i in range(start, stop, step):\n",
    "        X = get_dataset('X', dataset_type, prev, i)\n",
    "        for j in tqdm(range(len(X))):\n",
    "            plt.imsave(path.join('..', '..', 'Data', 'normalizedImages', dataset_type, classes[y[0][count-1]], str(count)+'.png'), X[j], cmap=\"jet\")\n",
    "            count += 1\n",
    "        prev = i"
   ]
  },
  {
   "cell_type": "code",
   "execution_count": 24,
   "metadata": {},
   "outputs": [
    {
     "name": "stderr",
     "output_type": "stream",
     "text": [
      "100%|██████████| 1474/1474 [01:12<00:00, 20.23it/s]\n",
      "100%|██████████| 1473/1473 [01:17<00:00, 18.92it/s]\n"
     ]
    }
   ],
   "source": [
    "save_images_by_class('test', y_test)"
   ]
  },
  {
   "cell_type": "code",
   "execution_count": null,
   "metadata": {},
   "outputs": [],
   "source": [
    "save_images_by_class('train', y_train)"
   ]
  }
 ],
 "metadata": {
  "kernelspec": {
   "display_name": "Python 3",
   "language": "python",
   "name": "python3"
  },
  "language_info": {
   "codemirror_mode": {
    "name": "ipython",
    "version": 3
   },
   "file_extension": ".py",
   "mimetype": "text/x-python",
   "name": "python",
   "nbconvert_exporter": "python",
   "pygments_lexer": "ipython3",
   "version": "3.11.1"
  },
  "orig_nbformat": 4,
  "vscode": {
   "interpreter": {
    "hash": "d77604b5305a708665e1df95d16b028ef698e61321d48de2b9f6d0bc9c05b8a5"
   }
  }
 },
 "nbformat": 4,
 "nbformat_minor": 2
}
